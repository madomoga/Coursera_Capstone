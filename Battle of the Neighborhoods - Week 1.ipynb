{
 "cells": [
  {
   "cell_type": "markdown",
   "metadata": {},
   "source": [
    "<a href=\"https://cognitiveclass.ai\"><img src = \"https://ibm.box.com/shared/static/9gegpsmnsoo25ikkbl4qzlvlyjbgxs5x.png\" width = 400> </a>"
   ]
  },
  {
   "cell_type": "markdown",
   "metadata": {},
   "source": [
    "# The Battle of the Neighborhoods - Week 1\n",
    "# Applied Data Science Capstone Porject"
   ]
  },
  {
   "cell_type": "markdown",
   "metadata": {
    "toc": true
   },
   "source": [
    "<h1>Table of Contents<span class=\"tocSkip\"></span></h1>\n",
    "<div class=\"toc\"><ul class=\"toc-item\"><li><span><a href=\"#Introduction\" data-toc-modified-id=\"Introduction-1\">Introduction<a name=\"introduction\"></a></a></span><ul class=\"toc-item\"><li><span><a href=\"#Background\" data-toc-modified-id=\"Background-1.1\">Background<a name=\"Background\"></a></a></span></li><li><span><a href=\"#Problem-\" data-toc-modified-id=\"Problem--1.2\">Problem <a name=\"Problem\"></a></a></span></li><li><span><a href=\"#Interest--\" data-toc-modified-id=\"Interest---1.3\">Interest  <a name=\"Interest\"></a></a></span></li></ul></li><li><span><a href=\"#Data-\" data-toc-modified-id=\"Data--2\">Data <a name=\"data\"></a></a></span></li></ul></div>"
   ]
  },
  {
   "cell_type": "markdown",
   "metadata": {},
   "source": [
    "## Introduction<a name=\"introduction\"></a>"
   ]
  },
  {
   "cell_type": "markdown",
   "metadata": {},
   "source": [
    "### Background<a name=\"Background\"></a>"
   ]
  },
  {
   "cell_type": "markdown",
   "metadata": {},
   "source": [
    "The Corona Virus pandemic has had a devastating impact on the livelihoods of people and claimed lives all over the world. This project focuses on the spread of Covid-19 in New York City.New York is the most populous city in the United States, with an estimated 2019 population of 8,336,817 distributed over about 302.6 square miles (784 km2). New York City is also the most densely populated major city in the United States. New York City is widely considered the cultural, financial, and media capital of the world, significantly influencing commerce, entertainment, research, technology, education, politics, tourism, art, fashion, and sports in the United States and all over the world. Given its overall demographics, New York is one of the cities most susceptible to the rapid spread of Covid-19 globally. According to some studies, the most populous boroughs in New York City, Queens and Brooklyn, likely served as the major hubs of coronavirus disease (COVID-19) spread in the spring of 2020."
   ]
  },
  {
   "cell_type": "markdown",
   "metadata": {},
   "source": [
    "### Problem <a name=\"Problem\"></a>"
   ]
  },
  {
   "cell_type": "markdown",
   "metadata": {},
   "source": [
    "This study intends to assess the spread of COVID-19 in New York City across its neighborhoods. It has been argued that some of the most populous boroughs in New York City contributed significantly to the spread of COVID-19 at the onset of the pandemic. In this context, this project intends to cluster neighborhoods in New York City and map out venues in the specific clusters to see if there are any common feautures in the neighborhoods or clusters with high COVID-19 infections. The World Health Organisation notes that current evidence suggests that the virus spreads mainly between people who are in close contact with each other, and the virus can also spread in poorly ventilated and/or crowded indoor settings, where people tend to spend longer periods of time. In view of this, the initial thinking is that neighborhoods with a lot of restaurants, coffee shops and other venues where people crowd together are likely to have higher cummulative cases. In the end, the project considers choropleth maps showing COVID-19 red zones for neighborhoods in New York, and maps venues around centroids of calibrated clusters to assess the spread of COVID-19 based on venues associated with each cluster, as well as venues associated with each Borough."
   ]
  },
  {
   "cell_type": "markdown",
   "metadata": {},
   "source": [
    "### Interest  <a name=\"Interest\"></a>"
   ]
  },
  {
   "cell_type": "markdown",
   "metadata": {},
   "source": [
    "This study is most useful for Health Care Policy makers and Medical Practitioners looking to understand how venues might influence the spread of a disease like COVID-19 for future and current use. It might also be useful for individuals looking to protect themselves by understanding how frequenting certain venues might increase chances of infection. An understanding of such dynamics is vital for coming up with targetted policy measures for most vulnerable neighborhoods such as, providing necessary medical advice and assistance and enforcing movement restrictions."
   ]
  },
  {
   "cell_type": "markdown",
   "metadata": {},
   "source": [
    "## Data <a name=\"data\"></a>"
   ]
  },
  {
   "cell_type": "markdown",
   "metadata": {},
   "source": [
    "The project will utilise data outlined below:\n",
    "\n",
    "i. Download New York City COVID-19 Data by ZIP Code from url:https://raw.githubusercontent.com/nychealth/coronavirus-data/master/totals/data-by-modzcta.csv\n",
    "\n",
    "ii. Download New York neighborhood data from url: https://cocl.us/new_york_dataset (JSON file)\n",
    "\n",
    "iii. Use Geolocator package to obtain coordinates of New York City and of neighborhoods in New York City\n",
    "\n",
    "iv. I will use the following API:\n",
    "* Foursquare API: to search venues around centroids for clustered neighborhoods in New York City and for each Borough."
   ]
  }
 ],
 "metadata": {
  "kernelspec": {
   "display_name": "Python 3",
   "language": "python",
   "name": "python3"
  },
  "language_info": {
   "codemirror_mode": {
    "name": "ipython",
    "version": 3
   },
   "file_extension": ".py",
   "mimetype": "text/x-python",
   "name": "python",
   "nbconvert_exporter": "python",
   "pygments_lexer": "ipython3",
   "version": "3.7.3"
  },
  "toc": {
   "base_numbering": 1,
   "nav_menu": {},
   "number_sections": false,
   "sideBar": true,
   "skip_h1_title": true,
   "title_cell": "Table of Contents",
   "title_sidebar": "Contents",
   "toc_cell": true,
   "toc_position": {
    "height": "calc(100% - 180px)",
    "left": "10px",
    "top": "150px",
    "width": "279.333px"
   },
   "toc_section_display": true,
   "toc_window_display": true
  }
 },
 "nbformat": 4,
 "nbformat_minor": 1
}
